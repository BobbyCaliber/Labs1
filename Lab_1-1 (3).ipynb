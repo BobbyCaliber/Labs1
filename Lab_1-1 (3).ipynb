{
 "cells": [
  {
   "cell_type": "markdown",
   "metadata": {},
   "source": [
    "## Лабораторная работа 1: Алгоритмы разложения матриц. PCA.\n",
    "_Команда i_ <br>\n",
    "_Фамилия 1, Фамилия 2, Фамилия 3, Фамилия 4_\n",
    "### 1. Метод главных компонент\n",
    "##### Cингулярное матричные разложения"
   ]
  },
  {
   "cell_type": "code",
   "execution_count": 105,
   "metadata": {},
   "outputs": [
    {
     "name": "stdout",
     "output_type": "stream",
     "text": [
      "СИНГУЛЯРНЫЕ ЧИСЛА МАТРИЦЫ А\n",
      "нумпаевская наработка: \n",
      "[8.3724 3.6024 1.0359 0.2831 0.047 ]\n",
      "собственная наработка: \n",
      "[8.3724, 3.6027, 1.0361, 0.2831, 0.0681]\n",
      "\n",
      "ЛЕВАЯ СИНГУЛЯРНАЯ МАТРИЦА\n",
      "нумпаевская наработка: \n",
      "[[-0.275 -0.029  0.711 -0.62  -0.17   0.    -0.064]\n",
      " [-0.153 -0.012  0.446  0.394  0.565 -0.469  0.29 ]\n",
      " [-0.112  0.009  0.345  0.422  0.068  0.827  0.041]\n",
      " [-0.086  0.008  0.211  0.449 -0.338 -0.265 -0.75 ]\n",
      " [-0.068 -0.001  0.098  0.281 -0.73  -0.163  0.59 ]\n",
      " [-0.626  0.749 -0.216 -0.011  0.025  0.     0.001]\n",
      " [-0.696 -0.661 -0.276  0.018  0.023  0.017 -0.011]]\n",
      "собственная наработка: \n",
      "[[ 0.275 -0.032 -0.713 -0.612  0.198  0.012  0.02 ]\n",
      " [ 0.153 -0.004 -0.438  0.368 -0.642 -0.029 -0.049]\n",
      " [ 0.113  0.01  -0.344  0.419 -0.088 -0.004 -0.006]\n",
      " [ 0.085  0.003 -0.216  0.465  0.365  0.017  0.029]\n",
      " [ 0.067 -0.012 -0.108  0.315  0.806  0.038  0.063]\n",
      " [ 0.626  0.75   0.216 -0.013 -0.024 -0.002 -0.004]\n",
      " [ 0.696 -0.661  0.277  0.017 -0.025 -0.002 -0.003]]\n",
      "\n",
      "ПРАВАЯ СИНГУЛЯРНАЯ МАТРИЦА\n",
      "нумпаевская наработка: \n",
      "[[-0.742 -0.53  -0.139 -0.087 -0.376]\n",
      " [-0.311  0.812 -0.109 -0.054 -0.48 ]\n",
      " [ 0.217 -0.14   0.606  0.49  -0.57 ]\n",
      " [-0.553  0.201  0.479  0.349  0.55 ]\n",
      " [ 0.006 -0.005 -0.61   0.792  0.036]]\n",
      "собственная наработка: \n",
      "[[ 0.742  0.53   0.139  0.087  0.376]\n",
      " [-0.311  0.812 -0.109 -0.054 -0.48 ]\n",
      " [ 0.217 -0.14   0.606  0.49  -0.57 ]\n",
      " [ 0.553 -0.201 -0.479 -0.349 -0.55 ]\n",
      " [ 0.006 -0.005 -0.61   0.792  0.036]]\n",
      "\n",
      "sigmas%: 97.37%\n",
      "sig 8.3724: 62.66%\n",
      "sig 3.6027: 26.96%\n",
      "sig 1.0361: 7.75%\n",
      "sig 0.2831: 2.12%\n",
      "sig 0.0681: 0.51%\n",
      "\n",
      "СПЕКТРАЛЬНОЕ РАЗЛОЖЕНИЕ (A @ A.T) \n",
      "[[ 5.9    3.27   2.41   1.79   1.37  11.598 13.495]\n",
      " [ 3.27   1.859  1.38   1.03   0.779  6.567  7.374]\n",
      " [ 2.41   1.38   1.03   0.77   0.579  4.95   5.305]\n",
      " [ 1.79   1.03   0.77   0.58   0.44   3.729  4.079]\n",
      " [ 1.37   0.779  0.579  0.44   0.342  2.811  3.351]\n",
      " [11.598  6.567  4.95   3.729  2.811 34.784 24.17 ]\n",
      " [13.495  7.374  5.305  4.079  3.351 24.17  39.746]]\n"
     ]
    }
   ],
   "source": [
    "import numpy as np\n",
    "from math import *\n",
    "A = np.array([[2.0, 1.0, 0.7, 0.5, 0.4],\n",
    "              [1.0, 0.6, 0.5, 0.4, 0.3],\n",
    "              [0.7, 0.5, 0.4, 0.3, 0.2],\n",
    "              [0.5, 0.4, 0.3, 0.2, 0.2],\n",
    "              [0.4, 0.3, 0.2, 0.1, 0.2],\n",
    "              [3.0, 5.0, 0.3, 0.2, 0.8],\n",
    "              [5.0, 1.2, 0.9, 0.5, 3.5]])\n",
    "\n",
    "def QR_Decomposition(A):\n",
    "    n, m = A.shape # get the shape of A\n",
    "    Q = np.empty((n, n)) # initialize matrix Q\n",
    "    v = np.empty((n, n)) # initialize matrix u\n",
    "\n",
    "    v[:, 0] = A[:, 0]\n",
    "    Q[:, 0] = v[:, 0] / np.linalg.norm(v[:, 0])\n",
    "\n",
    "    for i in range(1, m):\n",
    "        v[:, i] = A[:, i]\n",
    "        for j in range(i):\n",
    "            v[:, i] -= (A[:, i] @ Q[:, j]) * Q[:, j] # get each u vector\n",
    "        Q[:, i] = v[:, i] / np.linalg.norm(v[:, i]) # compute each e vetor\n",
    "\n",
    "    R = np.zeros((n, m))\n",
    "    for i in range(n):\n",
    "        for j in range(i, m):\n",
    "            R[i, j] = A[:, j] @ Q[:, i]\n",
    "\n",
    "    return Q, R\n",
    "\n",
    "a = A @ A.T\n",
    "b = A.T @ A\n",
    "Q, R = QR_Decomposition(a)\n",
    "Q1, R1 = QR_Decomposition(b)\n",
    "left = Q\n",
    "right = Q1\n",
    "for i in range(10):\n",
    "    S = R1 @ Q1\n",
    "    P = R @ Q\n",
    "    Q, R = QR_Decomposition(P)\n",
    "    Q1, R1 = QR_Decomposition(S)\n",
    "    left = left @ Q\n",
    "    right = right @ Q1\n",
    "right = right.T\n",
    "singular_values = list(map(lambda x: round(sqrt(x), 4), np.diag(R)[:min(A.shape)]))\n",
    "\n",
    "\n",
    "print('сингулярные числа матрицы А'.upper())    \n",
    "print(f'нумпаевская наработка: \\n{np.linalg.svd(A)[1].round(4)}')\n",
    "print(f'собственная наработка: \\n{singular_values}')\n",
    "print()\n",
    "print('левая сингулярная матрица'.upper())\n",
    "print(f'нумпаевская наработка: \\n{np.linalg.svd(A)[0].round(3)}')\n",
    "print(f'собственная наработка: \\n{left.round(3)}')\n",
    "print()\n",
    "print('правая сингулярная матрица'.upper())\n",
    "print(f'нумпаевская наработка: \\n{np.linalg.svd(A)[2].round(3)}')\n",
    "print(f'собственная наработка: \\n{right.round(3)}')\n",
    "print()\n",
    "\n",
    "opt = sum(singular_values[:3]) / sum(singular_values)\n",
    "\n",
    "print(f'sigmas%: {round(opt * 100, 2)}%')\n",
    "for i in singular_values:\n",
    "    print(f'sig {i}: {round(i / sum(singular_values) * 100, 2)}%')\n",
    "print()\n",
    "print(f'СПЕКТРАЛЬНОЕ РАЗЛОЖЕНИЕ (A @ A.T) \\n{(left @ np.diag(np.diag(R)) @ left.T).round(3)}')"
   ]
  },
  {
   "cell_type": "markdown",
   "metadata": {},
   "source": [
    "##### Представление набора данных"
   ]
  },
  {
   "cell_type": "code",
   "execution_count": null,
   "metadata": {},
   "outputs": [],
   "source": []
  },
  {
   "cell_type": "markdown",
   "metadata": {},
   "source": [
    "##### Применение метода сингулярного разложения на данных"
   ]
  },
  {
   "cell_type": "code",
   "execution_count": null,
   "metadata": {},
   "outputs": [],
   "source": []
  },
  {
   "cell_type": "markdown",
   "metadata": {},
   "source": [
    "##### Преимущества и недостатки применения сингулярного и спектрального разложения к задачам PCA"
   ]
  },
  {
   "cell_type": "code",
   "execution_count": null,
   "metadata": {},
   "outputs": [],
   "source": []
  },
  {
   "cell_type": "markdown",
   "metadata": {},
   "source": [
    "##### Определение числа компонент, визуализация данных, анализ полученных компонент"
   ]
  },
  {
   "cell_type": "code",
   "execution_count": null,
   "metadata": {},
   "outputs": [],
   "source": []
  },
  {
   "cell_type": "markdown",
   "metadata": {},
   "source": [
    "##### Дополнительное задание"
   ]
  },
  {
   "cell_type": "code",
   "execution_count": null,
   "metadata": {},
   "outputs": [],
   "source": []
  },
  {
   "cell_type": "markdown",
   "metadata": {},
   "source": [
    "### 2. Kernel PCA"
   ]
  },
  {
   "cell_type": "markdown",
   "metadata": {},
   "source": [
    "##### Представление набора данных"
   ]
  },
  {
   "cell_type": "code",
   "execution_count": null,
   "metadata": {},
   "outputs": [],
   "source": []
  },
  {
   "cell_type": "markdown",
   "metadata": {},
   "source": [
    "##### Реализация методов вычисления матрицы для различных ядер  и её последующего спектрального разложения"
   ]
  },
  {
   "cell_type": "code",
   "execution_count": null,
   "metadata": {},
   "outputs": [],
   "source": []
  },
  {
   "cell_type": "markdown",
   "metadata": {},
   "source": [
    "##### Сравнительный анализ применения PCA и Kernel PCA"
   ]
  },
  {
   "cell_type": "code",
   "execution_count": null,
   "metadata": {},
   "outputs": [],
   "source": []
  }
 ],
 "metadata": {
  "kernelspec": {
   "display_name": "Python 3 (ipykernel)",
   "language": "python",
   "name": "python3"
  },
  "language_info": {
   "codemirror_mode": {
    "name": "ipython",
    "version": 3
   },
   "file_extension": ".py",
   "mimetype": "text/x-python",
   "name": "python",
   "nbconvert_exporter": "python",
   "pygments_lexer": "ipython3",
   "version": "3.11.4"
  }
 },
 "nbformat": 4,
 "nbformat_minor": 2
}
